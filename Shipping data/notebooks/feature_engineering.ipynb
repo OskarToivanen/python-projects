{
 "cells": [
  {
   "cell_type": "code",
   "execution_count": 1,
   "metadata": {},
   "outputs": [],
   "source": [
    "import pandas as pd\n",
    "import numpy as np"
   ]
  },
  {
   "cell_type": "code",
   "execution_count": 2,
   "metadata": {},
   "outputs": [],
   "source": [
    "df = pd.read_csv('../data/raw/shipping_data.csv')\n",
    "df_modified = df"
   ]
  },
  {
   "cell_type": "code",
   "execution_count": 3,
   "metadata": {},
   "outputs": [],
   "source": [
    "df_modified = df_modified.drop(columns=['Warehouse_block', 'Customer_care_calls','Customer_rating', 'Prior_purchases', 'Product_importance', 'Gender'])"
   ]
  },
  {
   "cell_type": "code",
   "execution_count": 6,
   "metadata": {},
   "outputs": [
    {
     "data": {
      "text/html": [
       "<div>\n",
       "<style scoped>\n",
       "    .dataframe tbody tr th:only-of-type {\n",
       "        vertical-align: middle;\n",
       "    }\n",
       "\n",
       "    .dataframe tbody tr th {\n",
       "        vertical-align: top;\n",
       "    }\n",
       "\n",
       "    .dataframe thead th {\n",
       "        text-align: right;\n",
       "    }\n",
       "</style>\n",
       "<table border=\"1\" class=\"dataframe\">\n",
       "  <thead>\n",
       "    <tr style=\"text-align: right;\">\n",
       "      <th></th>\n",
       "      <th>ID</th>\n",
       "      <th>Mode_of_Shipment</th>\n",
       "      <th>Cost_of_the_Product</th>\n",
       "      <th>Discount_offered</th>\n",
       "      <th>Weight_in_gms</th>\n",
       "      <th>Reached.on.Time_Y.N</th>\n",
       "    </tr>\n",
       "  </thead>\n",
       "  <tbody>\n",
       "    <tr>\n",
       "      <th>0</th>\n",
       "      <td>1</td>\n",
       "      <td>Flight</td>\n",
       "      <td>177</td>\n",
       "      <td>44</td>\n",
       "      <td>1233</td>\n",
       "      <td>1</td>\n",
       "    </tr>\n",
       "    <tr>\n",
       "      <th>1</th>\n",
       "      <td>2</td>\n",
       "      <td>Flight</td>\n",
       "      <td>216</td>\n",
       "      <td>59</td>\n",
       "      <td>3088</td>\n",
       "      <td>1</td>\n",
       "    </tr>\n",
       "    <tr>\n",
       "      <th>2</th>\n",
       "      <td>3</td>\n",
       "      <td>Flight</td>\n",
       "      <td>183</td>\n",
       "      <td>48</td>\n",
       "      <td>3374</td>\n",
       "      <td>1</td>\n",
       "    </tr>\n",
       "    <tr>\n",
       "      <th>3</th>\n",
       "      <td>4</td>\n",
       "      <td>Flight</td>\n",
       "      <td>176</td>\n",
       "      <td>10</td>\n",
       "      <td>1177</td>\n",
       "      <td>1</td>\n",
       "    </tr>\n",
       "    <tr>\n",
       "      <th>4</th>\n",
       "      <td>5</td>\n",
       "      <td>Flight</td>\n",
       "      <td>184</td>\n",
       "      <td>46</td>\n",
       "      <td>2484</td>\n",
       "      <td>1</td>\n",
       "    </tr>\n",
       "  </tbody>\n",
       "</table>\n",
       "</div>"
      ],
      "text/plain": [
       "   ID Mode_of_Shipment  Cost_of_the_Product  Discount_offered  Weight_in_gms  \\\n",
       "0   1           Flight                  177                44           1233   \n",
       "1   2           Flight                  216                59           3088   \n",
       "2   3           Flight                  183                48           3374   \n",
       "3   4           Flight                  176                10           1177   \n",
       "4   5           Flight                  184                46           2484   \n",
       "\n",
       "   Reached.on.Time_Y.N  \n",
       "0                    1  \n",
       "1                    1  \n",
       "2                    1  \n",
       "3                    1  \n",
       "4                    1  "
      ]
     },
     "execution_count": 6,
     "metadata": {},
     "output_type": "execute_result"
    }
   ],
   "source": [
    "df_modified.head()"
   ]
  },
  {
   "cell_type": "code",
   "execution_count": 17,
   "metadata": {},
   "outputs": [
    {
     "name": "stdout",
     "output_type": "stream",
     "text": [
      "Mode_of_Shipment\n",
      "Ship      7462\n",
      "Flight    1777\n",
      "Road      1760\n",
      "Name: count, dtype: int64\n",
      "Reached.on.Time_Y.N\n",
      "1    6563\n",
      "0    4436\n",
      "Name: count, dtype: int64\n"
     ]
    }
   ],
   "source": [
    "print(df_modified['Mode_of_Shipment'].value_counts())\n",
    "print(df_modified['Reached.on.Time_Y.N'].value_counts())"
   ]
  },
  {
   "cell_type": "code",
   "execution_count": 26,
   "metadata": {},
   "outputs": [
    {
     "name": "stdout",
     "output_type": "stream",
     "text": [
      "Reached.on.Time_Y.N         0         1\n",
      "Mode_of_Shipment                       \n",
      "Flight               0.398424  0.601576\n",
      "Road                 0.411932  0.588068\n",
      "Ship                 0.402439  0.597561\n",
      "Mode_of_Shipment\n",
      "Flight    39.842431\n",
      "Road      41.193182\n",
      "Ship      40.243902\n",
      "dtype: float64\n"
     ]
    }
   ],
   "source": [
    "shipment_delays = df_modified.groupby('Mode_of_Shipment')['Reached.on.Time_Y.N'].value_counts(normalize=True).unstack()\n",
    "print(shipment_delays)\n",
    "\n",
    "delay_percentage = df_modified[df_modified['Reached.on.Time_Y.N'] == 0].groupby('Mode_of_Shipment').size() / df_modified.groupby('Mode_of_Shipment').size() * 100\n",
    "print(delay_percentage)"
   ]
  },
  {
   "cell_type": "code",
   "execution_count": 27,
   "metadata": {},
   "outputs": [
    {
     "data": {
      "image/png": "[encoded data removed]",
      "text/plain": [
       "<Figure size 640x480 with 1 Axes>"
      ]
     },
     "metadata": {},
     "output_type": "display_data"
    }
   ],
   "source": [
    "import matplotlib.pyplot as plt\n",
    "shipment_delays.plot(kind='bar', stacked=True)\n",
    "plt.title('Proportion of On-Time vs Late Deliveries by Mode of Shipment')\n",
    "plt.xlabel('Mode of Shipment')\n",
    "plt.ylabel('Proportion of Deliveries')\n",
    "plt.show()"
   ]
  }
 ],
 "metadata": {
  "kernelspec": {
   "display_name": "Python 3",
   "language": "python",
   "name": "python3"
  },
  "language_info": {
   "codemirror_mode": {
    "name": "ipython",
    "version": 3
   },
   "file_extension": ".py",
   "mimetype": "text/x-python",
   "name": "python",
   "nbconvert_exporter": "python",
   "pygments_lexer": "ipython3",
   "version": "3.12.5"
  }
 },
 "nbformat": 4,
 "nbformat_minor": 2
}
